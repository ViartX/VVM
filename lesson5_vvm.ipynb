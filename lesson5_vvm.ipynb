{
 "cells": [
  {
   "cell_type": "code",
   "execution_count": null,
   "id": "b620c5b4",
   "metadata": {},
   "outputs": [],
   "source": [
    "%matplotlib inline\n",
    "import numpy as np"
   ]
  },
  {
   "cell_type": "code",
   "execution_count": 13,
   "id": "c8165f06",
   "metadata": {},
   "outputs": [
    {
     "name": "stdout",
     "output_type": "stream",
     "text": [
      "20\n",
      "26\n",
      "28\n",
      "17\n",
      "17\n"
     ]
    }
   ],
   "source": [
    "#1. Напишите код, моделирующий выпадение поля в рулетке (с учетом поля зеро).\n",
    "%matplotlib inline\n",
    "import numpy as np\n",
    "for i in range(0, 5):  \n",
    "    num = np.random.uniform(0, 37)\n",
    "    print(int(num))\n"
   ]
  },
  {
   "cell_type": "code",
   "execution_count": 28,
   "id": "f43dd11d",
   "metadata": {},
   "outputs": [
    {
     "name": "stdout",
     "output_type": "stream",
     "text": [
      "P(A) = 0.036\n",
      "P(B) = 0.018\n",
      "P(A+B) = 0.054\n"
     ]
    }
   ],
   "source": [
    "#Напишите код, проверяющий любую из теорем сложения или умножения вероятности на примере рулетки или подбрасывания монетки.\n",
    "#P(A+B) = P(A)+P(B)\n",
    "%matplotlib inline\n",
    "import numpy as np\n",
    "n = 1000\n",
    "A = int(0)\n",
    "B = int(11)\n",
    "n_a = 0 # a - событие выпадения A\n",
    "n_b = 0 # b - событие выпадения B\n",
    "n_ab = 0 # a+b - выпадение A или B\n",
    "\n",
    "for i in range(0, n):\n",
    "    num = int(np.random.uniform(0, 37))\n",
    "    if num == A:\n",
    "        n_a += 1\n",
    "        n_ab += 1\n",
    "    if num == B:    \n",
    "        n_b += 1\n",
    "        n_ab += 1 \n",
    "print(f\"P(A) = {n_a/n}\")\n",
    "print(f\"P(B) = {n_b/n}\")\n",
    "print(f\"P(A+B) = {n_ab/n}\")        \n",
    "        "
   ]
  },
  {
   "cell_type": "code",
   "execution_count": 37,
   "id": "2f339d47",
   "metadata": {},
   "outputs": [
    {
     "name": "stdout",
     "output_type": "stream",
     "text": [
      "[array([6, 8, 7, 1, 7, 9, 0, 5, 4, 6]), array([9, 5, 3, 1, 4, 7, 2, 5, 0, 4]), array([1, 4, 5, 2, 7, 3, 2, 3, 8, 0]), array([9, 1, 9, 2, 1, 2, 0, 2, 6, 3]), array([8, 7, 4, 5, 9, 1, 2, 1, 8, 8]), array([3, 3, 9, 5, 7, 8, 7, 9, 5, 0]), array([9, 7, 1, 2, 5, 3, 5, 5, 0, 9]), array([6, 8, 4, 2, 4, 8, 2, 9, 3, 1]), array([8, 1, 9, 4, 5, 8, 6, 8, 7, 4]), array([9, 0, 5, 0, 4, 6, 4, 9, 1, 2])]\n",
      "[53, 40, 35, 35, 53, 56, 46, 47, 60, 40]\n"
     ]
    },
    {
     "data": {
      "text/plain": [
       "Text(0.5, 1.0, 'Histogram')"
      ]
     },
     "execution_count": 37,
     "metadata": {},
     "output_type": "execute_result"
    },
    {
     "data": {
      "image/png": "[encoded data removed]",
      "text/plain": [
       "<Figure size 432x288 with 1 Axes>"
      ]
     },
     "metadata": {
      "needs_background": "light"
     },
     "output_type": "display_data"
    }
   ],
   "source": [
    "#Сгенерируйте десять выборок случайных чисел х0, …, х9.\n",
    "#и постройте гистограмму распределения случайной суммы  +х1+ …+ х9.\n",
    "%matplotlib inline\n",
    "import numpy as np\n",
    "import matplotlib.pyplot as plt\n",
    "import matplotlib.mlab as mlab\n",
    "n = 10\n",
    "a = []\n",
    "b = []\n",
    "for i in range (0, n):\n",
    "    a.append(np.random.randint(0,10,n))\n",
    "print(a)    \n",
    "\n",
    "for i in range(0, n):\n",
    "    temp_sum = 0\n",
    "    for j in range(0, 10):\n",
    "        temp_sum += a[i][j]\n",
    "    b.append(temp_sum)\n",
    "print(b)   \n",
    "\n",
    "num_bins = 10\n",
    "n, bins, patches = plt.hist(b, num_bins)\n",
    "plt.xlabel('summa')\n",
    "plt.ylabel('Probability')\n",
    "plt.title('Histogram')\n",
    "        "
   ]
  },
  {
   "cell_type": "code",
   "execution_count": 90,
   "id": "ee4f6e4c",
   "metadata": {},
   "outputs": [
    {
     "name": "stdout",
     "output_type": "stream",
     "text": [
      "3835 10000 0.3835\n",
      "0.375\n"
     ]
    }
   ],
   "source": [
    "#Дополните код Монте-Карло последовательности независимых испытаний расчетом соответствующих \n",
    "# вероятностей (через биномиальное распределение) и сравните результаты. c из 4 по 2 \n",
    "\n",
    "%matplotlib inline\n",
    "import numpy as np\n",
    "\n",
    "# experiment\n",
    "k, n = 0, 10000\n",
    "a = np.random.randint(0, 2, n)\n",
    "b = np.random.randint(0, 2, n)\n",
    "c = np.random.randint(0, 2, n)\n",
    "d = np.random.randint(0, 2, n)\n",
    "x = a + b + c + d\n",
    "for i in range(0, n):\n",
    "    if x[i] == 2:\n",
    "        k = k + 1\n",
    "print(k, n, k/n)\n",
    "\n",
    "# Bernulli\n",
    "C_nk = np.math.factorial(4)/(np.math.factorial(2) * np.math.factorial(2))\n",
    "#print(C_nk)\n",
    "P_nk = C_nk*(0.5**(2))*(0.5**(2))\n",
    "print(P_nk)                          \n"
   ]
  },
  {
   "cell_type": "code",
   "execution_count": 122,
   "id": "6dad3172",
   "metadata": {},
   "outputs": [
    {
     "name": "stdout",
     "output_type": "stream",
     "text": [
      "242 10000 0.0242\n",
      "0.027889000000000004\n"
     ]
    }
   ],
   "source": [
    "#Повторите расчеты биномиальных коэффициентов и вероятностей k успехов в последовательности из n независимых испытаний, \n",
    "#взяв другие значения n и k.\n",
    "# кидаем два кубика - ждем выпадения 6+6\n",
    "%matplotlib inline\n",
    "import numpy as np\n",
    "\n",
    "# experiment\n",
    "k, n = 0, 10000\n",
    "a = np.random.randint(1, 7, n)\n",
    "b = np.random.randint(1, 7, n)\n",
    "\n",
    "x = a + b\n",
    "for i in range(0, n):\n",
    "    if x[i] == 12:\n",
    "        k = k + 1\n",
    "print(k, n, k/n)\n",
    "\n",
    "# Bernulli\n",
    "C_nk = np.math.factorial(2)/(np.math.factorial(2) * np.math.factorial(0))\n",
    "#print(C_nk)\n",
    "P_nk = C_nk*((0.167)**(2))*(0.833**(0))\n",
    "print(P_nk)"
   ]
  },
  {
   "cell_type": "code",
   "execution_count": 128,
   "id": "5940062a",
   "metadata": {},
   "outputs": [
    {
     "name": "stdout",
     "output_type": "stream",
     "text": [
      "12\n",
      "13\n",
      "14\n",
      "15\n",
      "16\n",
      "21\n",
      "23\n",
      "24\n",
      "25\n",
      "26\n",
      "31\n",
      "32\n",
      "34\n",
      "35\n",
      "36\n",
      "41\n",
      "42\n",
      "43\n",
      "45\n",
      "46\n",
      "51\n",
      "52\n",
      "53\n",
      "54\n",
      "56\n",
      "61\n",
      "62\n",
      "63\n",
      "64\n",
      "65\n"
     ]
    }
   ],
   "source": [
    "#Из урока по комбинаторике повторите расчеты, сгенерировав возможные варианты перестановок для других значений n и k\n",
    "%matplotlib inline\n",
    "import numpy as np\n",
    "import itertools\n",
    "for p in itertools.permutations(\"123456\",2):\n",
    "    print(''.join(str(x) for x in p))\n"
   ]
  },
  {
   "cell_type": "code",
   "execution_count": 129,
   "id": "47135b9f",
   "metadata": {},
   "outputs": [
    {
     "name": "stdout",
     "output_type": "stream",
     "text": [
      "12\n",
      "13\n",
      "14\n",
      "15\n",
      "16\n",
      "23\n",
      "24\n",
      "25\n",
      "26\n",
      "34\n",
      "35\n",
      "36\n",
      "45\n",
      "46\n",
      "56\n"
     ]
    }
   ],
   "source": [
    "#Из урока по комбинаторике повторите расчеты, сгенерировав возможные варианты перестановок для других значений n и k\n",
    "%matplotlib inline\n",
    "import numpy as np\n",
    "import itertools\n",
    "for p in itertools.combinations(\"123456\",2):\n",
    "    print(''.join(str(x) for x in p))"
   ]
  }
 ],
 "metadata": {
  "kernelspec": {
   "display_name": "Python 3",
   "language": "python",
   "name": "python3"
  },
  "language_info": {
   "codemirror_mode": {
    "name": "ipython",
    "version": 3
   },
   "file_extension": ".py",
   "mimetype": "text/x-python",
   "name": "python",
   "nbconvert_exporter": "python",
   "pygments_lexer": "ipython3",
   "version": "3.9.1"
  }
 },
 "nbformat": 4,
 "nbformat_minor": 5
}
